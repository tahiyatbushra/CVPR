{
  "nbformat": 4,
  "nbformat_minor": 0,
  "metadata": {
    "colab": {
      "provenance": [],
      "authorship_tag": "ABX9TyP6i9cLcgiHyRApyfcjkttC",
      "include_colab_link": true
    },
    "kernelspec": {
      "name": "python3",
      "display_name": "Python 3"
    },
    "language_info": {
      "name": "python"
    }
  },
  "cells": [
    {
      "cell_type": "markdown",
      "metadata": {
        "id": "view-in-github",
        "colab_type": "text"
      },
      "source": [
        "<a href=\"https://colab.research.google.com/github/tahiyatbushra/CVPR/blob/main/KNN.ipynb\" target=\"_parent\"><img src=\"https://colab.research.google.com/assets/colab-badge.svg\" alt=\"Open In Colab\"/></a>"
      ]
    },
    {
      "cell_type": "code",
      "execution_count": 1,
      "metadata": {
        "colab": {
          "base_uri": "https://localhost:8080/",
          "height": 888
        },
        "id": "9Xbreiuu3pv2",
        "outputId": "c2dc4379-cc23-409a-dbea-4604808ca794"
      },
      "outputs": [
        {
          "output_type": "stream",
          "name": "stdout",
          "text": [
            "Drive already mounted at /content/drive; to attempt to forcibly remount, call drive.mount(\"/content/drive\", force_remount=True).\n",
            "Loaded dataset with 300 samples and 3 classes.\n",
            "K = 1,  Average Accuracy (Mean)  = 0.3333\n",
            "K = 2,  Average Accuracy (Mean)  = 0.3333\n",
            "K = 3,  Average Accuracy (Mean)  = 0.3333\n",
            "K = 4,  Average Accuracy (Mean)  = 0.3333\n",
            "K = 5,  Average Accuracy (Mean)  = 0.3333\n",
            "K = 6,  Average Accuracy (Mean)  = 0.3667\n",
            "K = 7,  Average Accuracy (Mean)  = 0.3667\n",
            "K = 8,  Average Accuracy (Mean)  = 0.3333\n",
            "K = 9,  Average Accuracy (Mean)  = 0.3333\n",
            "K = 10,  Average Accuracy (Mean)  = 0.3333\n",
            "K = 11,  Average Accuracy (Mean)  = 0.3333\n",
            "K = 12,  Average Accuracy (Mean)  = 0.3333\n",
            "K = 13,  Average Accuracy (Mean)  = 0.3333\n",
            "K = 14,  Average Accuracy (Mean)  = 0.3333\n",
            "K = 15,  Average Accuracy (Mean)  = 0.3333\n",
            "K = 16,  Average Accuracy (Mean)  = 0.3333\n",
            "K = 17,  Average Accuracy (Mean)  = 0.3333\n",
            "K = 18,  Average Accuracy (Mean)  = 0.2967\n",
            "K = 19,  Average Accuracy (Mean)  = 0.3367\n",
            "K = 20,  Average Accuracy (Mean)  = 0.3000\n"
          ]
        },
        {
          "output_type": "display_data",
          "data": {
            "text/plain": [
              "<Figure size 640x480 with 1 Axes>"
            ],
            "image/png": "[encoded data removed]"
          },
          "metadata": {}
        },
        {
          "output_type": "stream",
          "name": "stdout",
          "text": [
            "Best k: 6\n",
            "Final accuracy with k=6: 0.3333333333333333\n"
          ]
        }
      ],
      "source": [
        "from google.colab import drive\n",
        "drive.mount('/content/drive')\n",
        "\n",
        "# Import libraries\n",
        "import numpy as np\n",
        "import matplotlib.pyplot as plt\n",
        "from sklearn.model_selection import KFold\n",
        "from PIL import Image\n",
        "import os\n",
        "\n",
        "# Function to preprocess images:\n",
        "def preprocess_image(image, size=(32, 32)):\n",
        "    image_resized = Image.fromarray(image).resize(size).convert('L')\n",
        "    return np.array(image_resized)\n",
        "\n",
        "def load_dataset(dataset_dir):\n",
        "    data = []\n",
        "    labels = []\n",
        "    classes = sorted([\n",
        "    d for d in os.listdir(dataset_dir)\n",
        "    if os.path.isdir(os.path.join(dataset_dir, d))\n",
        "])\n",
        "\n",
        "    class_map = {cls: idx for idx, cls in enumerate(classes)}\n",
        "\n",
        "    for cls in classes:\n",
        "        cls_dir = os.path.join(dataset_dir, cls)\n",
        "        for img_name in os.listdir(cls_dir):\n",
        "            img_path = os.path.join(cls_dir, img_name)\n",
        "            try:\n",
        "                img = np.array(Image.open(img_path))\n",
        "                img_gray = preprocess_image(img)\n",
        "                data.append(img_gray.flatten())\n",
        "\n",
        "                labels.append(class_map[cls])\n",
        "            except Exception as e:\n",
        "                print(f\"Could not process image {img_name}: {e}\")\n",
        "\n",
        "    return np.array(data), np.array(labels), class_map\n",
        "\n",
        "class KNearestNeighbor(object):\n",
        "    def __init__(self):\n",
        "        pass\n",
        "\n",
        "    def train(self, X, y):\n",
        "        self.X_train = X\n",
        "        self.y_train = y\n",
        "\n",
        "    def predict(self, X, k=1):\n",
        "        dists = self.compute_distances(X)\n",
        "        return self.predict_labels(dists, k)\n",
        "\n",
        "    def compute_distances(self, X):\n",
        "        num_test = X.shape[0]\n",
        "        num_train = self.X_train.shape[0]\n",
        "        dists = np.sqrt(\n",
        "            np.sum(X ** 2, axis=1, keepdims=True) +\n",
        "            np.sum(self.X_train ** 2, axis=1) -\n",
        "            2 * X @ self.X_train.T\n",
        "        )\n",
        "        return dists\n",
        "\n",
        "    def predict_labels(self, dists, k=1):\n",
        "        num_test = dists.shape[0]\n",
        "        y_pred = np.zeros(num_test)\n",
        "\n",
        "        for i in range(num_test):\n",
        "            nearest = np.argsort(dists[i])[:k]\n",
        "            closest_y = self.y_train[nearest]\n",
        "            y_pred[i] = np.bincount(closest_y).argmax()\n",
        "        return y_pred\n",
        "\n",
        "# Specify dataset directory path in your Google Drive\n",
        "dataset_dir = '/content/drive/MyDrive/animals'\n",
        "\n",
        "X, y, class_map = load_dataset(dataset_dir)\n",
        "print(f\"Loaded dataset with {len(X)} samples and {len(class_map)} classes.\")\n",
        "\n",
        "num_folds = 3\n",
        "k_choices = range(1, 21)\n",
        "kf = KFold(n_splits=num_folds, shuffle=True, random_state=42)\n",
        "\n",
        "k_to_accuracies = {k: [] for k in k_choices}\n",
        "\n",
        "for train_idx, val_idx in kf.split(X):\n",
        "    X_train, X_val = X[train_idx], X[val_idx]\n",
        "    y_train, y_val = y[train_idx], y[val_idx]\n",
        "\n",
        "    knn = KNearestNeighbor()\n",
        "    knn.train(X_train, y_train)\n",
        "\n",
        "    for k in k_choices:\n",
        "        y_val_pred = knn.predict(X_val, k=k)\n",
        "        accuracy = np.mean(y_val_pred == y_val)\n",
        "        k_to_accuracies[k].append(accuracy)\n",
        "\n",
        "mean_accuracies = []\n",
        "std_accuracies = []\n",
        "\n",
        "for k in k_choices:\n",
        "    accuracies = k_to_accuracies[k]\n",
        "    mean_acc = np.mean(accuracies)\n",
        "    std_acc = np.std(accuracies)\n",
        "    mean_accuracies.append(mean_acc)\n",
        "    std_accuracies.append(std_acc)\n",
        "\n",
        "  # Print average accuracy for each k\n",
        "    print(f\"K = {k},  Average Accuracy (Mean)  = {mean_acc:.4f}\")\n",
        "\n",
        "\n",
        "plt.errorbar(k_choices, mean_accuracies, yerr=std_accuracies, fmt='-o')\n",
        "plt.title(\"k-NN: Accuracy vs k Value\")\n",
        "plt.xlabel(\"k\")\n",
        "plt.ylabel(\"Accuracy\")\n",
        "plt.show()\n",
        "\n",
        "# Find the k with highest mean accuracy\n",
        "best_k = k_choices[np.argmax(mean_accuracies)]\n",
        "print(f\"Best k: {best_k}\")\n",
        "\n",
        "knn = KNearestNeighbor()\n",
        "knn.train(X, y)\n",
        "y_pred = knn.predict(X, k=best_k)\n",
        "accuracy = np.mean(y_pred == y)\n",
        "print(f\"Final accuracy with k={best_k}: {accuracy}\")\n",
        "\n"
      ]
    }
  ]
}